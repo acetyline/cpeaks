{
 "cells": [
  {
   "cell_type": "code",
   "execution_count": null,
   "metadata": {},
   "outputs": [],
   "source": [
    "import scanpy as sc\n",
    "import numpy as np\n",
    "import os\n",
    "os.environ[\"CUDA_VISIBLE_DEVICES\"] = \"2\"\n",
    "import cupy as cnp\n",
    "import pandas as pd\n",
    "import cudf as cpd\n",
    "import cupyx.scipy.sparse\n",
    "import matplotlib.pyplot as plt\n",
    "import scipy.sparse\n",
    "import gc"
   ]
  },
  {
   "cell_type": "code",
   "execution_count": null,
   "metadata": {},
   "outputs": [],
   "source": [
    "writedir='/data1/zyb/singlecell/'\n",
    "scfile='/nfs/public/wxz/Consensus_peak/data/process_data/renbin/processed/integrated_renbin.h5ad'\n",
    "adata=sc.read_h5ad(scfile)"
   ]
  },
  {
   "cell_type": "code",
   "execution_count": null,
   "metadata": {},
   "outputs": [],
   "source": [
    "#get real matrix \n",
    "mat=cupyx.scipy.sparse.csc_matrix((586511-560631-1550714+1557129,586511-560631-1550714+1557129),dtype=cnp.float32)\n",
    "count=0\n",
    "writedir='/data1/zyb/singlecell/'\n",
    "\n",
    "mat1=cupyx.scipy.sparse.csr_matrix(cnp.asarray(adata.X[:,560631:586511].minimum(1).todense()).astype('float32'))\n",
    "mat2=cupyx.scipy.sparse.csr_matrix(cnp.asarray(adata.X[:,1550714:1557129].minimum(1).todense()).astype('float32'))\n",
    "mat3 = cupyx.scipy.sparse.hstack([mat1, mat2]).tocsr()\n",
    "del mat1\n",
    "del mat2\n",
    "cnp.cuda.Stream.null.synchronize()\n",
    "#1550714:1557129\n",
    "for i in range(40):\n",
    "    mat+=mat3[5000*i:5000*i+5000,:].T.dot(mat3[5000*i:5000*i+5000,:])\n",
    "    gc.collect()\n",
    "    cnp.cuda.Stream.null.synchronize()\n",
    "cnp.cuda.Stream.null.synchronize()\n",
    "gc.collect()"
   ]
  },
  {
   "cell_type": "code",
   "execution_count": null,
   "metadata": {},
   "outputs": [],
   "source": [
    "cnp.save(writedir+'newmat_dense.npy',mat.todense())\n",
    "mat=cnp.load(writedir+'newmat_dense.npy')\n",
    "mat_cpu=mat.get()"
   ]
  },
  {
   "cell_type": "code",
   "execution_count": null,
   "metadata": {},
   "outputs": [],
   "source": [
    "#get random matrix\n",
    "nonzero_elements_per_col = mat3.getnnz(axis=1)\n",
    "randmat=cupyx.scipy.sparse.csc_matrix((32295,32295),dtype=cnp.float32)\n",
    "\n",
    "for i in range(1000):\n",
    "    t11=cupyx.scipy.sparse.csc_matrix((1000,32295),dtype=cnp.float32)\n",
    "    gc.collect()\n",
    "    cnp.cuda.Stream.null.synchronize()\n",
    "    \n",
    "    num_samples = 1000\n",
    "    random_samples = np.random.choice(nonzero_elements_per_col, size=num_samples).astype('int').tolist()\n",
    "    rows=[]\n",
    "    cols=[]\n",
    "    values=[]\n",
    "    #print(random_samples.shape)\n",
    "    for j in range(1000):\n",
    "        random_rows = cnp.ones(random_samples[j])*j\n",
    "        random_cols = cnp.random.randint(0, 32295, size=random_samples[j])\n",
    "        random_values = cnp.ones(random_samples[j])\n",
    "        rows.append(random_rows)\n",
    "        cols.append(random_cols)\n",
    "        values.append(random_values)\n",
    "    t11 += cupyx.scipy.sparse.csc_matrix((cnp.concatenate(values), (cnp.concatenate(rows), cnp.concatenate(cols))), shape=(1000,32295))\n",
    "    randmat+=t11.T.dot(t11)"
   ]
  },
  {
   "cell_type": "code",
   "execution_count": null,
   "metadata": {},
   "outputs": [],
   "source": [
    "cnp.save(writedir+'random.npy',randmat.todense())\n",
    "randmat=cnp.load(writedir+'random.npy')\n",
    "randmat_cpu=randmat.get()"
   ]
  },
  {
   "cell_type": "code",
   "execution_count": null,
   "metadata": {},
   "outputs": [],
   "source": [
    "#Distribution of gene expression times in random\n",
    "randiag=randmat_cpu.diagonal().get()\n",
    "plt.hist(randiag, bins=500, color='blue', alpha=0.7)\n",
    "plt.show()"
   ]
  },
  {
   "cell_type": "code",
   "execution_count": null,
   "metadata": {},
   "outputs": [],
   "source": [
    "#Distribution of gene expression times in real\n",
    "matdiag=mat_cpu.diagonal().get()\n",
    "plt.hist(matdiag, bins=500, color='blue', alpha=0.7)\n",
    "plt.show()"
   ]
  },
  {
   "cell_type": "code",
   "execution_count": null,
   "metadata": {},
   "outputs": [],
   "source": [
    "#filter out genes expressed less than 2000 times\n",
    "rows_to_keep = cnp.max(mat, axis=1) >= 2000\n",
    "cols_to_keep = cnp.max(mat, axis=0) >= 2000\n",
    "mat = mat[rows_to_keep][:, cols_to_keep]"
   ]
  },
  {
   "cell_type": "code",
   "execution_count": null,
   "metadata": {},
   "outputs": [],
   "source": [
    "#condition-express matrix\n",
    "condmat=mat/mat.diagonal()"
   ]
  },
  {
   "cell_type": "code",
   "execution_count": null,
   "metadata": {},
   "outputs": [],
   "source": [
    "#cluster genes with condmat\n",
    "from sklearn.cluster import SpectralClustering\n",
    "\n",
    "graph=cnp.asnumpy(condmat)\n",
    "graph=(graph+graph.T)/2\n",
    "n_clusters = 50\n",
    "spectral = SpectralClustering(n_clusters=n_clusters, affinity='precomputed', random_state=42)\n",
    "labels = spectral.fit_predict(graph)"
   ]
  },
  {
   "cell_type": "code",
   "execution_count": null,
   "metadata": {},
   "outputs": [],
   "source": [
    "unique_labels, label_counts = np.unique(labels, return_counts=True)\n",
    "for label, count in zip(unique_labels, label_counts):\n",
    "    print(f\"Label {label}: {count} instances\")"
   ]
  },
  {
   "cell_type": "code",
   "execution_count": null,
   "metadata": {},
   "outputs": [],
   "source": [
    "# show cond matrix \n",
    "data_flattened = cnp.asnumpy(mat).flatten()\n",
    "data_flattened=data_flattened[data_flattened<1]\n",
    "plt.hist(data_flattened, bins=500, color='blue', alpha=0.7)\n",
    "plt.show()"
   ]
  },
  {
   "cell_type": "code",
   "execution_count": null,
   "metadata": {},
   "outputs": [],
   "source": [
    "# show rand cond matrix\n",
    "randmat=randmat/randmat.diagonal()\n",
    "randmat_flattened = cnp.asnumpy(randmat).flatten()\n",
    "randmat_flattened=randmat_flattened[randmat_flattened<1]\n",
    "plt.hist(randmat_flattened, bins=500, color='blue', alpha=0.7)\n",
    "plt.show()"
   ]
  }
 ],
 "metadata": {
  "language_info": {
   "name": "python"
  }
 },
 "nbformat": 4,
 "nbformat_minor": 2
}
