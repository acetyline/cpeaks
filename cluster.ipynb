{
 "cells": [
  {
   "cell_type": "code",
   "execution_count": null,
   "metadata": {},
   "outputs": [],
   "source": [
    "import pickle\n",
    "import numpy as np\n",
    "import sklearn.cluster as cl\n",
    "import os\n",
    "import pandas as pd\n",
    "from sklearn.cluster import AgglomerativeClustering\n",
    "from scipy.cluster.hierarchy import dendrogram, linkage\n",
    "import matplotlib.pyplot as plt"
   ]
  },
  {
   "cell_type": "code",
   "execution_count": null,
   "metadata": {},
   "outputs": [],
   "source": [
    "with open('/data1/zyb/count_cpeak/mat1.pickle','rb') as f:\n",
    "    mat1=pickle.load(f)\n",
    "with open('/data1/zyb/count_cpeak/mat2.pickle','rb') as f:\n",
    "    mat2=pickle.load(f)\n",
    "mat=mat1+mat2\n",
    "flat=[]\n",
    "for i in range(500):\n",
    "    flat.append(mat[i].flatten())"
   ]
  },
  {
   "cell_type": "code",
   "execution_count": null,
   "metadata": {},
   "outputs": [],
   "source": [
    "#show tree\n",
    "linkage_matrix = linkage(flat, 'ward')\n",
    "dendrogram(linkage_matrix)\n",
    "plt.title('Hierarchical Clustering Dendrogram')\n",
    "plt.xlabel('Sample Index')\n",
    "plt.ylabel('Cluster Distance')\n",
    "plt.show()"
   ]
  },
  {
   "cell_type": "code",
   "execution_count": null,
   "metadata": {},
   "outputs": [],
   "source": [
    "#cluster\n",
    "agg_clustering = AgglomerativeClustering(n_clusters=3,  linkage='ward')\n",
    "label=agg_clustering.fit_predict(flat)\n"
   ]
  },
  {
   "cell_type": "code",
   "execution_count": null,
   "metadata": {},
   "outputs": [],
   "source": [
    "#save\n",
    "peaks=pd.read_csv('/data1/zyb/count_cpeak/4.bed',sep='\\t',header=None,dtype={'1': 'int', '2': 'int'})\n",
    "count=0\n",
    "for index,rows in peaks.iterrows():\n",
    "    os.system('cp /data1/zyb/plot/'+str(rows[1])+'-'+str(rows[2])+'.png /data1/zyb/plot/cluster/'+str(label[count]+1))\n",
    "    count+=1"
   ]
  }
 ],
 "metadata": {
  "language_info": {
   "name": "python"
  }
 },
 "nbformat": 4,
 "nbformat_minor": 2
}
